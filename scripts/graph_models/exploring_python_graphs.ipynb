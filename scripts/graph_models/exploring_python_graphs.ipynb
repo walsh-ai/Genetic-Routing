{
 "cells": [
  {
   "cell_type": "markdown",
   "id": "35151b7d",
   "metadata": {},
   "source": [
    "## Graphs"
   ]
  },
  {
   "cell_type": "code",
   "execution_count": 1,
   "id": "22c5eb2d",
   "metadata": {},
   "outputs": [
    {
     "name": "stdout",
     "output_type": "stream",
     "text": [
      "3.9.5\n"
     ]
    }
   ],
   "source": [
    "import numpy as np \n",
    "import matplotlib.pyplot as plt\n",
    "import networkx as nx \n",
    "from platform import python_version\n",
    "\n",
    "print(python_version())"
   ]
  },
  {
   "cell_type": "code",
   "execution_count": 7,
   "id": "a2196c01",
   "metadata": {},
   "outputs": [
    {
     "data": {
      "text/plain": [
       "array([[0., 1., 0., 0.],\n",
       "       [1., 0., 1., 0.],\n",
       "       [0., 1., 0., 1.],\n",
       "       [0., 0., 1., 0.]])"
      ]
     },
     "execution_count": 7,
     "metadata": {},
     "output_type": "execute_result"
    }
   ],
   "source": [
    "# Representing an undirected graph with different data structures \n",
    "\n",
    "# Edge list \n",
    "elist = [(0,1), (1,2), (2,3)]\n",
    "\n",
    "# Adjacency list \n",
    "alist = [[1], [0,2], [1,3], [2]]\n",
    "\n",
    "# Adjacency matrix from edge list \n",
    "A = np.zeros((4,4))\n",
    "\n",
    "for e in elist:\n",
    "    A[e[0], e[1]] = 1 \n",
    "    A[e[1], e[0]] = 1\n",
    "    \n",
    "A"
   ]
  },
  {
   "cell_type": "code",
   "execution_count": 60,
   "id": "8cd1537b",
   "metadata": {},
   "outputs": [
    {
     "data": {
      "text/plain": [
       "array([[0., 1., 0., 0.],\n",
       "       [1., 0., 1., 0.],\n",
       "       [0., 1., 0., 1.],\n",
       "       [0., 0., 1., 0.]])"
      ]
     },
     "execution_count": 60,
     "metadata": {},
     "output_type": "execute_result"
    }
   ],
   "source": [
    "# Function to return an adjacency list from an edge list \n",
    "def getAdjMatrix(elist, N):\n",
    "    A = np.zeros((N, N))\n",
    "    \n",
    "    # Every edge list is composed of tuples of size two \n",
    "    for e in elist:\n",
    "        A[e[0], e[1]] = 1\n",
    "        A[e[1], e[0]] = 1\n",
    "    \n",
    "    return A\n",
    "\n",
    "getAdjMatrix(elist, 4)"
   ]
  },
  {
   "cell_type": "code",
   "execution_count": null,
   "id": "de120c72",
   "metadata": {},
   "outputs": [],
   "source": []
  }
 ],
 "metadata": {
  "kernelspec": {
   "display_name": "Python 3 (ipykernel)",
   "language": "python",
   "name": "python3"
  },
  "language_info": {
   "codemirror_mode": {
    "name": "ipython",
    "version": 3
   },
   "file_extension": ".py",
   "mimetype": "text/x-python",
   "name": "python",
   "nbconvert_exporter": "python",
   "pygments_lexer": "ipython3",
   "version": "3.9.5"
  }
 },
 "nbformat": 4,
 "nbformat_minor": 5
}
