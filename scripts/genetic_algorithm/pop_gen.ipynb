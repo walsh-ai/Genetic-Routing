{
 "cells": [
  {
   "cell_type": "markdown",
   "id": "13146f15",
   "metadata": {},
   "source": [
    "## Population Generation: Random, Valid Paths \n",
    "\n",
    "This notebook will look to write an algorithm to generate an initial population of candidate solutions that represent valid paths through a network between a source (s) and destination node (d). \n",
    "\n",
    "Further, an iteration of this algorithm will be presented with improved performance. \n",
    "\n",
    "Entirely random generation of sequences of nodes is not guaranteed to represent valid paths that exist in the network, or to generate paths that traverse from node s to d.\n",
    "\n",
    "Hence, some constraints need to be placed on the generation of paths. \n",
    "    - Starting with the source node, select a connected node to visit next with uniform probability. \n",
    "    - If at any stage the only connected nodes already exist in the path, then the algorithm will backtrack until a new path is available \n",
    "    - Next nodes are selected until the destination is reached \n",
    "    \n",
    "The possible improvement upon this algorithm will be to select next nodes with probability equal to the weighted inverse of the cost to traverse the connecting edge. "
   ]
  },
  {
   "cell_type": "code",
   "execution_count": 7,
   "id": "b73f3d90",
   "metadata": {},
   "outputs": [
    {
     "data": {
      "text/plain": [
       "'1088839939205562'"
      ]
     },
     "execution_count": 7,
     "metadata": {},
     "output_type": "execute_result"
    }
   ],
   "source": [
    "import random\n",
    "\n",
    "rnd = random.Random()\n",
    "\n",
    "str(int(rnd.random() * (10 ** 16)))"
   ]
  },
  {
   "cell_type": "code",
   "execution_count": null,
   "id": "7fb44f33",
   "metadata": {},
   "outputs": [],
   "source": []
  }
 ],
 "metadata": {
  "kernelspec": {
   "display_name": "Python 3 (ipykernel)",
   "language": "python",
   "name": "python3"
  },
  "language_info": {
   "codemirror_mode": {
    "name": "ipython",
    "version": 3
   },
   "file_extension": ".py",
   "mimetype": "text/x-python",
   "name": "python",
   "nbconvert_exporter": "python",
   "pygments_lexer": "ipython3",
   "version": "3.9.5"
  }
 },
 "nbformat": 4,
 "nbformat_minor": 5
}
