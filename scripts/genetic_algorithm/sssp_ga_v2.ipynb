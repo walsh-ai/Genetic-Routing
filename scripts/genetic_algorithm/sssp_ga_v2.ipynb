{
 "cells": [
  {
   "cell_type": "markdown",
   "id": "8ab095ca",
   "metadata": {},
   "source": [
    "## Modified GA to Solve Single-Source Shortest Path \n",
    "\n",
    "This Modified GA inteds to iterate over the solution provided for the travelling salesman problem in order to solve the Single Source Shortes Path (SSSP) problem.\n",
    "\n",
    "This algorithm has an alternative mutation method in order to allow performance to scale better with the size of the graph. \n",
    "\n",
    "The hypotheses is that the mutation method depends on generating a new random path which is a slow process. The next iteration on this algorithm should attempt to resovle this, by changing the mutation method. "
   ]
  },
  {
   "cell_type": "code",
   "execution_count": 2,
   "id": "54115feb",
   "metadata": {},
   "outputs": [],
   "source": [
    "import time \n",
    "import random\n",
    "import numpy as np\n",
    "import networkx as nx\n",
    "from statistics import mean\n",
    "import matplotlib.pyplot as plt"
   ]
  },
  {
   "cell_type": "code",
   "execution_count": 19,
   "id": "3af3e9a0",
   "metadata": {},
   "outputs": [],
   "source": [
    "def path_length(p, g):\n",
    "    return sum(g[i][j]['weight'] for i, j in zip(p, p[1:]))"
   ]
  },
  {
   "cell_type": "code",
   "execution_count": 20,
   "id": "27a2e705",
   "metadata": {},
   "outputs": [],
   "source": [
    "def fit(p, g):\n",
    "    return path_length(p, g) ** (-1)"
   ]
  },
  {
   "cell_type": "code",
   "execution_count": 21,
   "id": "b47b9ab8",
   "metadata": {},
   "outputs": [],
   "source": [
    "# Function to define a single new random path from node s to node r\n",
    "# in a network supplied as a Networkx graph \n",
    "# G: Graph / network as networkx\n",
    "# s: Start node \n",
    "# r: Destination node \n",
    "def gen_path(G, s, r):\n",
    "    path = [s]\n",
    "    \n",
    "    current = s\n",
    "    while current != r: \n",
    "        # Neighbours exluding nodes in path \n",
    "        neighbours = [n for n in G[current] if n not in path]\n",
    "        \n",
    "        # Sometimes, neighbours is empty \n",
    "        # In which case, retry \n",
    "        if not neighbours:\n",
    "            return gen_path(G, s, r)\n",
    "        \n",
    "        # Select neighbour node with uniform probability  \n",
    "        nxt = np.random.choice(neighbours) \n",
    "        \n",
    "        # List and visit next node \n",
    "        path.append(nxt)\n",
    "        current = nxt \n",
    "        \n",
    "    return path"
   ]
  },
  {
   "cell_type": "code",
   "execution_count": 22,
   "id": "3ac052f5",
   "metadata": {},
   "outputs": [],
   "source": [
    "# Function to generate a population of n random paths s->r\n",
    "# G: Graph as networkx\n",
    "# s: Start node\n",
    "# r: Destination node\n",
    "# n: Number of paths / size of population \n",
    "def gen_population(G, s, r, n):\n",
    "    population = [] \n",
    "    for i in range(n):\n",
    "        # Generate a new candidate path\n",
    "        candidate = gen_path(G, s, r)\n",
    "        # Generate a new candidate \n",
    "        population.append(candidate)\n",
    "    \n",
    "    return population"
   ]
  },
  {
   "cell_type": "code",
   "execution_count": 23,
   "id": "fe66a0c1",
   "metadata": {},
   "outputs": [],
   "source": [
    "# Perform crossover between two paths s->r\n",
    "# The two paths must have at least one common element \n",
    "# From the set of common elements, one is selected, v \n",
    "# The paths are redifined as s -> v, v -> r  \n",
    "# The path segments are recombined to create two children\n",
    "# a: The first path\n",
    "# b: The second path \n",
    "def crossover(a, b):\n",
    "    common = [] \n",
    "    for ind_a, i in enumerate(a):\n",
    "        for ind_b, j in enumerate(b):\n",
    "            if i == j:\n",
    "                common.append((ind_a, ind_b))\n",
    "    \n",
    "    # Randomly select a one common element to exchange\n",
    "    target = np.random.choice(len(common))\n",
    "    \n",
    "    # Retrieve indexes\n",
    "    ind_a, ind_b = common[target]\n",
    "    \n",
    "    # Create new arrays\n",
    "    chd_a = a[:ind_a] + b[ind_b:]\n",
    "    chd_b = b[:ind_b] + a[ind_a:]\n",
    "    \n",
    "    return chd_a, chd_b"
   ]
  },
  {
   "cell_type": "code",
   "execution_count": 31,
   "id": "a3939770",
   "metadata": {},
   "outputs": [],
   "source": [
    "def mutate(G, path):\n",
    "    # Randomly order replacable nodes (excl. start, destination)\n",
    "    indexes = list(range(1, (len(path) - 1)))\n",
    "    random.shuffle(indexes)\n",
    "    \n",
    "    while indexes: \n",
    "        ind = indexes[0]\n",
    "        \n",
    "        # Retrieve the neighbours of adjacent nodes\n",
    "        # Denote subpath as a -> b -> c where b is node at index [ind]\n",
    "        b = path[ind]\n",
    "        a = path[ind - 1]\n",
    "        c = path[ind + 1] \n",
    "        \n",
    "        # Retrieve neighbours of each node \n",
    "        a_neighbours = list(G[a])\n",
    "        c_neighbours = list(G[c])\n",
    "    \n",
    "        # Identify common elements of a, c other than b \n",
    "        common = [n for n in np.intersect1d(a, c) if n != b]\n",
    "        \n",
    "        # Replace b with common element or re-try \n",
    "        if not common:\n",
    "            indexes.pop(0) # Remove failed index \n",
    "            continue \n",
    "        \n",
    "        path[ind] = np.random.choice(common)\n",
    "        \n",
    "    return path "
   ]
  },
  {
   "cell_type": "code",
   "execution_count": 25,
   "id": "7d552edc",
   "metadata": {},
   "outputs": [],
   "source": [
    "# Compute the fitness value of each hypotheses \n",
    "# p: Population\n",
    "# g: Graph \n",
    "# Return: fitness list, maximum fitness value, sum of fitness values \n",
    "def evaluate(p, g):\n",
    "    # Evaluate the fitness of the population \n",
    "    fitness = [fit(h, g) for h in p]\n",
    "\n",
    "    return fitness, max(fitness), sum(fitness), mean(fitness)"
   ]
  },
  {
   "cell_type": "code",
   "execution_count": 26,
   "id": "650e7661",
   "metadata": {},
   "outputs": [],
   "source": [
    "# Stochastic universal selection \n",
    "#     - Uses a single random value to sample all solutions \n",
    "# n: Number of hypotheses to select\n",
    "# population: Population of hypotheses\n",
    "# fitness: Fitness array\n",
    "# ftotal: Sum of fitness values \n",
    "# target: Target array to append selected hypotheses \n",
    "def stochastic_universal(n, population, fitness, ftotal, target):\n",
    "    step = ftotal / n                       # Size of selection bins \n",
    "    start = random.uniform(0, step)     # Random in range [0, step)\n",
    "    \n",
    "    # Each pointer value indicates a selection threshold\n",
    "    # When the sum of probabilities exceeds a pointer, the current hypotheses is selected \n",
    "    pointers = [(start + (i * step)) for i in range(0, n)]\n",
    "    \n",
    "    for ptr in pointers:\n",
    "        ind = 0               # Current index \n",
    "        running_sum = 0.0       # Sum of probabilities (fit(h) / total_fitness)\n",
    "        \n",
    "        # Until the threshold is exceeded \n",
    "        while running_sum < ptr: \n",
    "            running_sum += fitness[ind]\n",
    "            ind += 1 \n",
    "        \n",
    "        target.append(population[ind - 1])"
   ]
  },
  {
   "cell_type": "code",
   "execution_count": 38,
   "id": "d053aa90",
   "metadata": {},
   "outputs": [],
   "source": [
    "# threshold: Number of iterations with unchanged best fitness before exit \n",
    "# itr: Maximum number of iterations before quit \n",
    "# p: size of population \n",
    "# r: fraction of population to be replaced by crossover \n",
    "# m: mutation rate \n",
    "# s: start node in path \n",
    "# d: destination node in path\n",
    "# g; graph \n",
    "def ga(G, threshold, itr, p, r, m, s, d):\n",
    "    # Store the history of max and mean fitness for generations \n",
    "    history = []\n",
    "    \n",
    "    # Take starting time \n",
    "    start = time.time()\n",
    "    \n",
    "    # Generate a random population \n",
    "    # Graph; start node; dest node; size of population \n",
    "    population = gen_population(G, s, d, p) \n",
    "    fitness, fmax, ftotal, favg = evaluate(population, G)\n",
    "    \n",
    "    # Track previo\n",
    "    # Generations \n",
    "    count = 0\n",
    "    unchanged = 0 \n",
    "    while  (unchanged < threshold) and (count < itr):   \n",
    "        # Append to training history \n",
    "        history.append((fmax, favg, ftotal))\n",
    "        \n",
    "        # Create new generation \n",
    "        gen = []\n",
    "        \n",
    "        # Select ((1 - r) * p) hypotheses to persist into the next generation\n",
    "        # Hypotheses are selected with fitness proportional probability \n",
    "        # Pr(hi) = fit(hi) / sumj(fit(hj))\n",
    "        num_hypotheses = int((1 - r) * p)\n",
    "        stochastic_universal(num_hypotheses, population, fitness, ftotal, gen)\n",
    "        \n",
    "        # Select (r * p) / 2 pairs of parents for crossover \n",
    "        # Parent hypotheses are chosen with fitness proportional probability \n",
    "        # Pr(hi) = fit(hi) / sumj(fit(hj))\n",
    "        parents = [] \n",
    "        num_parents = int(r * p) \n",
    "        stochastic_universal(num_parents, population, fitness, ftotal, parents)\n",
    "        \n",
    "        # Crossover pairs of parents \n",
    "        pairs = zip(parents, parents[1:])  # Zip into pairs [1, 2, 3] -> (1, 2), (2, 3)\n",
    "        for a, b in pairs:\n",
    "            c, d = crossover(a, b)   # Crossover parents a,b to get children c,d \n",
    "            gen.append(c) \n",
    "            gen.append(d)\n",
    "        \n",
    "        # Choose m percent of new population uniformly to mutate \n",
    "        m_size = int(m * p)\n",
    "        for i in np.random.choice(len(gen), m_size):\n",
    "            gen[i] = mutate(G, gen[i]) \n",
    "        \n",
    "        # Population equal to copy of generation \n",
    "        population = list(gen) \n",
    "        \n",
    "        # Evaluate the current population fitness\n",
    "        _fmax = fmax\n",
    "        fitness, fmax, ftotal, favg = evaluate(population, G)\n",
    "        \n",
    "        # Check if maximum fitness solution has changed \n",
    "        if _fmax == fmax:\n",
    "            unchanged += 1 \n",
    "        else:\n",
    "            unchanged = 0 # Reset when max fitness changes \n",
    "        \n",
    "        # Increment generation count\n",
    "        count += 1 \n",
    "    \n",
    "    # Return stats and performance \n",
    "    ind = np.argmax(fitness)\n",
    "    runtime = time.time() - start \n",
    "    \n",
    "    results = {\"generations\": count, \"runtime\": runtime,\n",
    "               \"learning_history\": history, \n",
    "               \"solution\": population[ind], \n",
    "               \"length\": path_length(population[ind], G), \n",
    "               \"fitness\": fitness[ind]}\n",
    "    \n",
    "    return results "
   ]
  },
  {
   "cell_type": "markdown",
   "id": "05626a84",
   "metadata": {},
   "source": [
    "**Test GA**"
   ]
  },
  {
   "cell_type": "code",
   "execution_count": 48,
   "id": "a06d364d",
   "metadata": {},
   "outputs": [],
   "source": [
    "# Random graph to test\n",
    "G_small = nx.erdos_renyi_graph(100, 0.4)\n",
    "G_large = nx.erdos_renyi_graph(1000, 0.4)\n",
    "\n",
    "# Assign edge weights \n",
    "for (i, j) in G_small.edges:\n",
    "    G_small[i][j]['weight'] = np.random.randint(0, 100)\n",
    "\n",
    "for (i, j) in G_large.edges:\n",
    "    G_large[i][j]['weight'] = np.random.randint(0, 100)\n",
    "\n",
    "# GA Hyperparameters \n",
    "THRESHOLD = 10          # Iterations where maximum fitness is unchanged to exit\n",
    "ITERATIONS = 100        # Maximum iterations \n",
    "P_SIZE = 100            # Size of population \n",
    "M_RATE = 0.1           # Mutation rate (percent of population to mutate)\n",
    "R_RATE = 0.5            # Percent of population to select as parents\n",
    "\n",
    "results_small = ga(G_small, THRESHOLD, ITERATIONS, P_SIZE, R_RATE, M_RATE, 0, 63)\n",
    "results_large = ga(G_large, THRESHOLD, ITERATIONS, P_SIZE, R_RATE, M_RATE, 0, 563)"
   ]
  },
  {
   "cell_type": "code",
   "execution_count": 50,
   "id": "49ca6b4e",
   "metadata": {},
   "outputs": [
    {
     "name": "stdout",
     "output_type": "stream",
     "text": [
      "Results Small Graph\n",
      "Solution Path:  [0, 63]\n",
      "Generations:  10\n",
      "Solution Fitness:  0.02631578947368421\n",
      "Runtime:  0.22032642364501953 seconds\n",
      "Solution Pathlength:  38\n"
     ]
    }
   ],
   "source": [
    "print(\"Results Small Graph\")\n",
    "print(\"Solution Path: \", results_small[\"solution\"])\n",
    "print(\"Generations: \", results_small[\"generations\"])\n",
    "print(\"Solution Fitness: \", results_small[\"fitness\"])\n",
    "print(\"Runtime: \", results_small[\"runtime\"], \"seconds\")\n",
    "print(\"Solution Pathlength: \", path_length(results_small[\"solution\"], G_small))"
   ]
  },
  {
   "cell_type": "code",
   "execution_count": 51,
   "id": "4dfc72ee",
   "metadata": {},
   "outputs": [
    {
     "name": "stdout",
     "output_type": "stream",
     "text": [
      "Results Large Graph\n",
      "Solution Path:  [0, 455, 712, 563]\n",
      "Generations:  11\n",
      "Solution Fitness:  0.004975124378109453\n",
      "Runtime:  133.1404836177826 seconds\n",
      "Solution Pathlength:  201\n"
     ]
    }
   ],
   "source": [
    "print(\"Results Large Graph\")\n",
    "print(\"Solution Path: \", results_large[\"solution\"])\n",
    "print(\"Generations: \", results_large[\"generations\"])\n",
    "print(\"Solution Fitness: \", results_large[\"fitness\"])\n",
    "print(\"Runtime: \", results_large[\"runtime\"], \"seconds\")\n",
    "print(\"Solution Pathlength: \", path_length(results_large[\"solution\"], G_large))"
   ]
  },
  {
   "cell_type": "code",
   "execution_count": 52,
   "id": "97e3785c",
   "metadata": {},
   "outputs": [
    {
     "data": {
      "text/plain": [
       "<matplotlib.legend.Legend at 0x2b89e981a00>"
      ]
     },
     "execution_count": 52,
     "metadata": {},
     "output_type": "execute_result"
    },
    {
     "data": {
      "image/png": "[encoded data removed]",
      "text/plain": [
       "<Figure size 640x480 with 1 Axes>"
      ]
     },
     "metadata": {},
     "output_type": "display_data"
    }
   ],
   "source": [
    "hist_small = results_small[\"learning_history\"]\n",
    "hist_large = results_large[\"learning_history\"]\n",
    "\n",
    "# history = [(max, average, total)] * number of generations \n",
    "# Plot the training history \n",
    "plt.figure()\n",
    "plt.plot([x for x, y, z in hist_small])\n",
    "plt.plot([y for x, y, z in hist_small])\n",
    "plt.plot([x for x, y, z in hist_large])\n",
    "plt.plot([y for x, y, z in hist_large])\n",
    "plt.title(\"Population Fitness\")\n",
    "plt.xlabel(\"Generation\")\n",
    "plt.ylabel(\"Fitness\")\n",
    "plt.legend((\"Max. Small\", \"Mean Small\", \"Max. Large\", \"Mean Large\"))"
   ]
  }
 ],
 "metadata": {
  "kernelspec": {
   "display_name": "Python 3 (ipykernel)",
   "language": "python",
   "name": "python3"
  },
  "language_info": {
   "codemirror_mode": {
    "name": "ipython",
    "version": 3
   },
   "file_extension": ".py",
   "mimetype": "text/x-python",
   "name": "python",
   "nbconvert_exporter": "python",
   "pygments_lexer": "ipython3",
   "version": "3.9.5"
  }
 },
 "nbformat": 4,
 "nbformat_minor": 5
}
