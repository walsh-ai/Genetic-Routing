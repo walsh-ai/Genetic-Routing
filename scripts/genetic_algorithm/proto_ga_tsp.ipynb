{
 "cells": [
  {
   "cell_type": "markdown",
   "id": "6ea84934",
   "metadata": {},
   "source": [
    "## Prototypical GA applied to the TSP\n",
    "\n",
    "This prototypical GA aims to solve the travelling salesman problem for fully connected graphs without self-connections where each node must be visited exactly once with no requirement to return to the source node. "
   ]
  },
  {
   "cell_type": "markdown",
   "id": "f055324a",
   "metadata": {},
   "source": [
    "**COMMENT** \n",
    "\n",
    "**This variation of the crossover function produces duplicates in the children**\n",
    "\n",
    "def crossover(h_a, h_b):\n",
    "    x, y = tuple(np.array_split(h_a, 2))\n",
    "    g, f = tuple(np.array_split(h_b, 2))\n",
    "    \n",
    "    return np.concatenate((x, f)), np.concatenate((g, y))"
   ]
  },
  {
   "cell_type": "code",
   "execution_count": 73,
   "id": "e66fd01e",
   "metadata": {},
   "outputs": [],
   "source": [
    "import random\n",
    "import numpy as np\n",
    "import networkx as nx"
   ]
  },
  {
   "cell_type": "code",
   "execution_count": 37,
   "id": "719065a2",
   "metadata": {},
   "outputs": [],
   "source": [
    "# Fitness function is the inverse of the pathlength \n",
    "def fit(h, g):\n",
    "    return (1 / sum(g[i][j]['weight'] for i, j in zip(h, h[1:])))"
   ]
  },
  {
   "cell_type": "code",
   "execution_count": 3,
   "id": "7ac5e241",
   "metadata": {},
   "outputs": [],
   "source": [
    "# Define a population generation method \n",
    "# For the TSP every node must be visisted at least once \n",
    "# The nodes can be visited in any order without a specific source node \n",
    "def gen_population(size, g):\n",
    "    nodes = list(g.nodes())\n",
    "    return np.array([np.random.permutation(nodes) for x in range(size)])"
   ]
  },
  {
   "cell_type": "code",
   "execution_count": 4,
   "id": "848d3061",
   "metadata": {},
   "outputs": [],
   "source": [
    "# The prototypical mutation scheme is to invert a random bit from a gene\n",
    "#              selected uniformly \n",
    "# In this case, we need sequences of nodes without duplicates \n",
    "# The mutation scheme here will be to swap the index of two nodes, chosen uniformly \n",
    "def mutate(h):\n",
    "    # Uniformly select two values from np.arrange(0, len(h))\n",
    "    a, b = tuple(np.random.choice(len(h), 2))\n",
    "    # Swap these values \n",
    "    h[a], h[b] = h[b], h[a]\n",
    "    \n",
    "    return h "
   ]
  },
  {
   "cell_type": "code",
   "execution_count": 11,
   "id": "6552d72a",
   "metadata": {},
   "outputs": [],
   "source": [
    "def crossover(a, b):\n",
    "    # Select two random indexes \n",
    "    x, y = np.random.choice(len(a), 2)\n",
    "    \n",
    "    if x > y: \n",
    "        x, y = y, x # Enforce x < y \n",
    "    \n",
    "    # Create an empty array \n",
    "    child_a = [None] * len(a)\n",
    "    child_b = [None] * len(a)\n",
    "    \n",
    "    # Slice \n",
    "    child_a[x:(y+1)] = a[x:(y+1)]\n",
    "    child_b[x:(y+1)] = b[x:(y+1)]\n",
    "    \n",
    "    # Replace remaining elements of alternate parent\n",
    "    ix = list(range(0, x)) + list(range((y + 1), len(a)))\n",
    "    \n",
    "    ind = 0\n",
    "    for gene in b:\n",
    "        if gene not in child_a:\n",
    "            child_a[ix[ind]] = gene\n",
    "            ind += 1 \n",
    "    \n",
    "    ind = 0 \n",
    "    for gene in a:\n",
    "        if gene not in child_b:\n",
    "            child_b[ix[ind]] = gene\n",
    "            ind +=1 \n",
    "\n",
    "    return child_a, child_b"
   ]
  },
  {
   "cell_type": "code",
   "execution_count": 50,
   "id": "526495f1",
   "metadata": {},
   "outputs": [],
   "source": [
    "# p: size of population \n",
    "# r: fraction of population to be replaced by crossover \n",
    "# m: mutation rate \n",
    "# g; graph \n",
    "def ga(threshold, itr, p, r, m, g):\n",
    "    # Generate a random population \n",
    "    population = gen_population(p,g)\n",
    "    \n",
    "    # Compute fitness for each hypothesis \n",
    "    fitness = [fit(h, g) for h in population]\n",
    "    \n",
    "    # Determine maximum fitness\n",
    "    fit_max = max(fitness) \n",
    "    \n",
    "    # Determine total fitness\n",
    "    fit_total = sum(fitness)\n",
    "    \n",
    "    # Calculate maximum of fitness \n",
    "    count = 0\n",
    "    while (fit_max < threshold) and (count < itr): \n",
    "        # Create new generation \n",
    "        # Select (1 - r)p hypotheses to persist \n",
    "        gen = []\n",
    "        \n",
    "        pr_sum = 0.0 \n",
    "        while len(gen) < ((1 - r) * p):\n",
    "            # Select a parent with probability\n",
    "            # Pr(hi) = f(hi) / sum_j(f(hj))\n",
    "            running_sum = 0.0\n",
    "            rnd = random.random() \n",
    "\n",
    "            ind = 0 \n",
    "            while running_sum < rnd: \n",
    "                running_sum += (fitness[ind] / fit_total)\n",
    "                ind += 1 \n",
    "            \n",
    "            # Add the selected element \n",
    "            gen.append(population[(ind - 1)])\n",
    "        \n",
    "        # Select (rp)/2 pairs for crossover with Pr(hi)\n",
    "        n_parents = int(r * p) \n",
    "     \n",
    "        step = fit_total / n_parents\n",
    "        start = random.uniform(0, step)\n",
    "        pointers = [(start + (i * step)) for i in range(0, n_parents)]\n",
    "        \n",
    "        parents = []\n",
    "        for ptr in pointers:\n",
    "            ind = 0\n",
    "            fsum = 0.0 \n",
    "            \n",
    "            while fsum < ptr: \n",
    "                fsum += fitness[ind]\n",
    "                ind += 1 \n",
    "            \n",
    "            parents.append(population[ind - 1])\n",
    "        \n",
    "        # Crossover \n",
    "        pairs = zip(parents, parents[1:])\n",
    "        for a, b in pairs:\n",
    "            c, d = crossover(a, b)\n",
    "            gen.append(c)\n",
    "            gen.append(d)\n",
    "        \n",
    "        # Choose m percent of new population to mutate \n",
    "        m_size = int(m * p)\n",
    "        for i in np.random.choice(len(gen), m_size):\n",
    "            gen[i] = mutate(gen[i])\n",
    "        \n",
    "        # Evaluate generation fitness \n",
    "        fitness = [fit(h, g) for h in gen]\n",
    "        fit_max = max(fitness)\n",
    "        \n",
    "        # Population equal to copy of generation \n",
    "        population = list(gen) \n",
    "        \n",
    "        # Increment iteration count\n",
    "        count += 1 \n",
    "    \n",
    "    # Return best\n",
    "    best = np.argmax(fitness)\n",
    "    return (fitness[best], population[best])"
   ]
  },
  {
   "cell_type": "code",
   "execution_count": 47,
   "id": "09371bc5",
   "metadata": {},
   "outputs": [],
   "source": [
    "# Create a graph to test this \n",
    "# Complete graph is required to generate travelling salesman problem \n",
    "G = nx.complete_graph(16)\n",
    "\n",
    "\n",
    "# Then also need to assign weights to edges \n",
    "# These will be uniform integers in range 1, 100\n",
    "for e in G.edges():\n",
    "    G[e[0]][e[1]]['weight'] = random.randrange(1, 100)"
   ]
  },
  {
   "cell_type": "code",
   "execution_count": 59,
   "id": "142061c3",
   "metadata": {},
   "outputs": [],
   "source": [
    "# Set threshold to the lowest value found by bad algorithm in ten tries \n",
    "threshold = (1 / 200)\n",
    "\n",
    "# Run the algorithm for the travelling salesman problem on this graph \n",
    "r = 0.2 \n",
    "m = 0.05\n",
    "p = 1000\n",
    "\n",
    "best_fit, solution = ga(threshold, 1000, p, r, m, G)"
   ]
  },
  {
   "cell_type": "code",
   "execution_count": 60,
   "id": "070c8928",
   "metadata": {},
   "outputs": [
    {
     "name": "stdout",
     "output_type": "stream",
     "text": [
      "0.0028735632183908046\n"
     ]
    }
   ],
   "source": [
    "print(best_fit)"
   ]
  },
  {
   "cell_type": "code",
   "execution_count": 61,
   "id": "9561c51d",
   "metadata": {},
   "outputs": [
    {
     "name": "stdout",
     "output_type": "stream",
     "text": [
      "[3, 14, 0, 10, 13, 1, 12, 15, 11, 7, 5, 8, 9, 6, 2, 4]\n"
     ]
    }
   ],
   "source": [
    "print(solution)"
   ]
  },
  {
   "cell_type": "code",
   "execution_count": 62,
   "id": "b8042bdb",
   "metadata": {},
   "outputs": [
    {
     "name": "stdout",
     "output_type": "stream",
     "text": [
      "348\n"
     ]
    }
   ],
   "source": [
    "print(sum(G[i][j]['weight'] for i, j in zip(solution, solution[1:])))"
   ]
  },
  {
   "cell_type": "code",
   "execution_count": 72,
   "id": "1ba696bf",
   "metadata": {},
   "outputs": [
    {
     "name": "stdout",
     "output_type": "stream",
     "text": [
      "[3, 10, 12, 10, 0, 9, 2, 9, 8, 5, 6, 14, 1, 11, 15, 13, 15, 4, 15, 7]\n",
      "88\n"
     ]
    }
   ],
   "source": [
    "tsp = nx.approximation.traveling_salesman_problem\n",
    "path = tsp(G, nodes = None, cycle = None)\n",
    "\n",
    "print(sum(G[i][j]['weight'] for i, j in zip(path, path[1:])))"
   ]
  },
  {
   "cell_type": "markdown",
   "id": "3a16b431",
   "metadata": {},
   "source": [
    "From this code we get duplicates. Problem!"
   ]
  },
  {
   "cell_type": "markdown",
   "id": "abdb2968",
   "metadata": {},
   "source": [
    "[ 9 10  7  1 13 14 11  3  3 15 14  1  2  6  5 10] Example of bad array \n",
    "\n",
    "i,j such that Hi = Hj where j = (i+1) ... i.e. edge from node to itself which does not exist. \n",
    "\n",
    "How do we design a better crossover operation? \n",
    "\n",
    "The children need to visit every node; this is a requirement. If they do not, there is a problem. \n",
    "\n"
   ]
  }
 ],
 "metadata": {
  "kernelspec": {
   "display_name": "Python 3 (ipykernel)",
   "language": "python",
   "name": "python3"
  },
  "language_info": {
   "codemirror_mode": {
    "name": "ipython",
    "version": 3
   },
   "file_extension": ".py",
   "mimetype": "text/x-python",
   "name": "python",
   "nbconvert_exporter": "python",
   "pygments_lexer": "ipython3",
   "version": "3.9.5"
  }
 },
 "nbformat": 4,
 "nbformat_minor": 5
}
